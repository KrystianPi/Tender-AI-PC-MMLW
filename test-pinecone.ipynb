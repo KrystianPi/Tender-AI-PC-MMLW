{
 "cells": [
  {
   "cell_type": "code",
   "execution_count": 55,
   "metadata": {},
   "outputs": [],
   "source": [
    "import pandas as pd\n",
    "import dotenv\n",
    "import os\n",
    "from pinecone import Pinecone\n",
    "from pinecone import ServerlessSpec\n",
    "from pinecone_text.sparse import BM25Encoder\n",
    "import time\n",
    "import spacy\n",
    "import json\n",
    "\n",
    "\n",
    "pinecone_api = os.getenv('PINECONE_API_KEY')\n",
    "rds_password = os.getenv('RDS_PASSWORD')\n",
    "rds_host = os.getenv('RDS_HOST')\n",
    "pc = Pinecone(api_key=pinecone_api)\n"
   ]
  },
  {
   "cell_type": "code",
   "execution_count": 5,
   "metadata": {},
   "outputs": [
    {
     "data": {
      "text/plain": [
       "1024"
      ]
     },
     "execution_count": 5,
     "metadata": {},
     "output_type": "execute_result"
    }
   ],
   "source": [
    "import json\n",
    "with open('data.json', 'r') as file:\n",
    "    data = json.load(file)\n",
    "\n",
    "dense_size = len(data[0]['vector'])\n",
    "dense_size"
   ]
  },
  {
   "cell_type": "code",
   "execution_count": 51,
   "metadata": {},
   "outputs": [],
   "source": [
    "df = pd.read_csv('mnt/efs/data_pre_v3.csv')\n",
    "df.head().to_csv('data_sample.csv')"
   ]
  },
  {
   "cell_type": "code",
   "execution_count": 9,
   "metadata": {},
   "outputs": [
    {
     "name": "stderr",
     "output_type": "stream",
     "text": [
      "100%|██████████| 13240/13240 [17:03<00:00, 12.94it/s]\n"
     ]
    }
   ],
   "source": [
    "from tqdm import tqdm\n",
    "\n",
    "# Load the spaCy model once\n",
    "nlp = spacy.load(\"pl_core_news_sm\")\n",
    "\n",
    "def preproc(text):\n",
    "    text = text.replace('\\n', ' ').replace('\\t', ' ')\n",
    "    doc = nlp(text)\n",
    "    tokens = [token.lemma_.lower() for token in doc if not token.is_stop and not token.is_punct]\n",
    "    return ' '.join(tokens)\n",
    "\n",
    "# Assuming df is your DataFrame\n",
    "tqdm.pandas()\n",
    "\n",
    "# Apply the preprocessing function with a progress bar\n",
    "df['Krótki opis preproc'] = df['Krótki opis'].progress_apply(preproc)"
   ]
  },
  {
   "cell_type": "code",
   "execution_count": 10,
   "metadata": {},
   "outputs": [],
   "source": [
    "df.to_csv('mnt/efs/data_pre_v3.csv')"
   ]
  },
  {
   "cell_type": "code",
   "execution_count": 11,
   "metadata": {},
   "outputs": [
    {
     "name": "stderr",
     "output_type": "stream",
     "text": [
      "  0%|          | 0/13240 [00:00<?, ?it/s]"
     ]
    },
    {
     "name": "stderr",
     "output_type": "stream",
     "text": [
      "100%|██████████| 13240/13240 [00:24<00:00, 551.43it/s]\n"
     ]
    }
   ],
   "source": [
    "bm25 = BM25Encoder()\n",
    "\n",
    "bm25.fit(df['Krótki opis preproc'])\n",
    "\n",
    "sparse = bm25.encode_documents([text for text in df['Krótki opis preproc']])"
   ]
  },
  {
   "cell_type": "code",
   "execution_count": 20,
   "metadata": {},
   "outputs": [],
   "source": [
    "sparse = [{'indices': item['indices'][:1000], 'values': item['values'][:1000]} for item in sparse]"
   ]
  },
  {
   "cell_type": "code",
   "execution_count": 12,
   "metadata": {},
   "outputs": [],
   "source": [
    "dense = [item['vector'] for item in data]"
   ]
  },
  {
   "cell_type": "code",
   "execution_count": 21,
   "metadata": {},
   "outputs": [],
   "source": [
    "meta_dict = [{'id':id} for id in df['uuid'].tolist()]\n",
    "\n",
    "upserts = []\n",
    "for _id, sparse_, dense_, meta in zip(df['uuid'].tolist(), sparse, dense, meta_dict):\n",
    "    upserts.append({\n",
    "            'id': _id,\n",
    "            'sparse_values': sparse_,\n",
    "            'values': dense_,\n",
    "            'metadata': meta\n",
    "        })"
   ]
  },
  {
   "cell_type": "code",
   "execution_count": 22,
   "metadata": {},
   "outputs": [],
   "source": [
    "index_name = \"tender-ai-hybrid-mmlw\"\n",
    "cloud = 'aws'\n",
    "region = 'us-east-1'\n",
    "spec = ServerlessSpec(cloud=cloud, region=region)\n",
    "# check if index already exists (it shouldn't if this is first time)\n",
    "if index_name not in pc.list_indexes().names():\n",
    "    # if does not exist, create index\n",
    "    pc.create_index(\n",
    "        index_name,\n",
    "        dimension=dense_size,\n",
    "        metric='dotproduct',\n",
    "        spec=spec\n",
    "    )\n",
    "    # wait for index to be initialized\n",
    "    while not pc.describe_index(index_name).status['ready']:\n",
    "        time.sleep(1)"
   ]
  },
  {
   "cell_type": "code",
   "execution_count": 23,
   "metadata": {},
   "outputs": [],
   "source": [
    "# Function to split data into batches\n",
    "def split_into_batches(data, batch_size):\n",
    "    batches = [data[i:i + batch_size] for i in range(0, len(data), batch_size)]\n",
    "    return batches\n",
    "\n",
    "# Define your batch size\n",
    "batch_size = 100\n",
    "\n",
    "# Split upserts into batches\n",
    "batches = split_into_batches(upserts, batch_size)"
   ]
  },
  {
   "cell_type": "code",
   "execution_count": 24,
   "metadata": {},
   "outputs": [
    {
     "name": "stderr",
     "output_type": "stream",
     "text": [
      "100%|██████████| 133/133 [11:27<00:00,  5.17s/it]\n"
     ]
    }
   ],
   "source": [
    "import tqdm\n",
    "\n",
    "index = pc.Index(index_name)\n",
    "\n",
    "for batch in tqdm.tqdm(batches):\n",
    "    index.upsert(batch)"
   ]
  },
  {
   "cell_type": "code",
   "execution_count": 26,
   "metadata": {},
   "outputs": [],
   "source": [
    "from sentence_transformers import SentenceTransformer\n",
    "model = SentenceTransformer('mnt/efs/model')"
   ]
  },
  {
   "cell_type": "code",
   "execution_count": 31,
   "metadata": {},
   "outputs": [
    {
     "data": {
      "text/html": [
       "<div>\n",
       "<style scoped>\n",
       "    .dataframe tbody tr th:only-of-type {\n",
       "        vertical-align: middle;\n",
       "    }\n",
       "\n",
       "    .dataframe tbody tr th {\n",
       "        vertical-align: top;\n",
       "    }\n",
       "\n",
       "    .dataframe thead th {\n",
       "        text-align: right;\n",
       "    }\n",
       "</style>\n",
       "<table border=\"1\" class=\"dataframe\">\n",
       "  <thead>\n",
       "    <tr style=\"text-align: right;\">\n",
       "      <th></th>\n",
       "      <th>id</th>\n",
       "      <th>opis</th>\n",
       "    </tr>\n",
       "  </thead>\n",
       "  <tbody>\n",
       "    <tr>\n",
       "      <th>0</th>\n",
       "      <td>959118ca-e475-4f5e-b5fa-c27dd50500fb</td>\n",
       "      <td>Renowacja kluczowych elementów kościoła parafi...</td>\n",
       "    </tr>\n",
       "    <tr>\n",
       "      <th>1</th>\n",
       "      <td>698c4ef7-0c55-4276-8a67-5ebe87883803</td>\n",
       "      <td>Modernizacja istniejącego terenu magazynowego ...</td>\n",
       "    </tr>\n",
       "    <tr>\n",
       "      <th>2</th>\n",
       "      <td>a9c5bbf9-36e2-4a29-ba99-562dd65af607</td>\n",
       "      <td>Remont budynku \"P\" we Wrocławiu przy ulicy Gaz...</td>\n",
       "    </tr>\n",
       "    <tr>\n",
       "      <th>3</th>\n",
       "      <td>fadb19f0-abb7-4923-9daf-e70919d5b209</td>\n",
       "      <td>Remont budynku kotłowni i SUW w Tłoczni Gazu R...</td>\n",
       "    </tr>\n",
       "    <tr>\n",
       "      <th>4</th>\n",
       "      <td>193b5c97-cfd9-452c-a5fe-7126706d917c</td>\n",
       "      <td>Renowacja wieży kościelnej oraz zagospodarowan...</td>\n",
       "    </tr>\n",
       "  </tbody>\n",
       "</table>\n",
       "</div>"
      ],
      "text/plain": [
       "                                     id  \\\n",
       "0  959118ca-e475-4f5e-b5fa-c27dd50500fb   \n",
       "1  698c4ef7-0c55-4276-8a67-5ebe87883803   \n",
       "2  a9c5bbf9-36e2-4a29-ba99-562dd65af607   \n",
       "3  fadb19f0-abb7-4923-9daf-e70919d5b209   \n",
       "4  193b5c97-cfd9-452c-a5fe-7126706d917c   \n",
       "\n",
       "                                                opis  \n",
       "0  Renowacja kluczowych elementów kościoła parafi...  \n",
       "1  Modernizacja istniejącego terenu magazynowego ...  \n",
       "2  Remont budynku \"P\" we Wrocławiu przy ulicy Gaz...  \n",
       "3  Remont budynku kotłowni i SUW w Tłoczni Gazu R...  \n",
       "4  Renowacja wieży kościelnej oraz zagospodarowan...  "
      ]
     },
     "execution_count": 31,
     "metadata": {},
     "output_type": "execute_result"
    }
   ],
   "source": [
    "query = \"MarkX Piotr Rajshttps://www.markx-rajs.pl/ budownictow drogowe; Drogi, nasypy stabilizacje kanalizacje, ale tez duzo innych- patrz strona. Lokalizacja: cala polska\"\n",
    "query = 'zapytanie: ' + query\n",
    "filter_ids = df['uuid'].tolist()\n",
    "# create sparse and dense vectors\n",
    "sparse_query = bm25.encode_queries(query)\n",
    "dense_query = model.encode(query, convert_to_tensor=False, show_progress_bar=False).tolist()\n",
    "# search\n",
    "result = index.query(\n",
    "    top_k=5,\n",
    "    filter={\n",
    "        \"id\": {\"$in\":filter_ids},\n",
    "    },\n",
    "    vector=dense_query,\n",
    "    sparse_vector=sparse_query,\n",
    "    include_metadata=True\n",
    ")\n",
    "\n",
    "results = [{\n",
    "    'id': result['id'],\n",
    "    'opis': df[df['uuid'] == result['id']][\"Krótki opis\"].squeeze(),\n",
    "} for result in result['matches']]\n",
    "pd.DataFrame(data=results)"
   ]
  },
  {
   "cell_type": "code",
   "execution_count": 18,
   "metadata": {},
   "outputs": [],
   "source": [
    "#pc.delete_index(\"tender-ai-hybrid-mmlw\")"
   ]
  },
  {
   "cell_type": "code",
   "execution_count": 47,
   "metadata": {},
   "outputs": [
    {
     "name": "stderr",
     "output_type": "stream",
     "text": [
      "/var/folders/x1/2j32gjvd4v16s6kf306sfdcw0000gn/T/ipykernel_7409/3974689322.py:5: MovedIn20Warning: The ``declarative_base()`` function is now available as sqlalchemy.orm.declarative_base(). (deprecated since: 2.0) (Background on SQLAlchemy 2.0 at: https://sqlalche.me/e/b8d9)\n",
      "  Base = declarative_base()\n"
     ]
    }
   ],
   "source": []
  },
  {
   "cell_type": "code",
   "execution_count": 49,
   "metadata": {},
   "outputs": [],
   "source": [
    "df = pd.read_csv('mnt/efs/data_pre_v3.csv')"
   ]
  },
  {
   "cell_type": "code",
   "execution_count": 48,
   "metadata": {},
   "outputs": [],
   "source": []
  },
  {
   "cell_type": "code",
   "execution_count": 60,
   "metadata": {},
   "outputs": [
    {
     "name": "stderr",
     "output_type": "stream",
     "text": [
      "/var/folders/x1/2j32gjvd4v16s6kf306sfdcw0000gn/T/ipykernel_7409/4118990035.py:7: MovedIn20Warning: The ``declarative_base()`` function is now available as sqlalchemy.orm.declarative_base(). (deprecated since: 2.0) (Background on SQLAlchemy 2.0 at: https://sqlalche.me/e/b8d9)\n",
      "  Base = declarative_base()\n"
     ]
    }
   ],
   "source": [
    "import pandas as pd\n",
    "from sqlalchemy import create_engine, Column, Integer, String, Date, ARRAY\n",
    "from sqlalchemy.ext.declarative import declarative_base\n",
    "from sqlalchemy.orm import sessionmaker\n",
    "import numpy as np\n",
    "# Define the SQLAlchemy base and model\n",
    "Base = declarative_base()\n",
    "\n",
    "class Tender(Base):\n",
    "    __tablename__ = 'tenders'\n",
    "    id = Column(Integer, primary_key=True, autoincrement=True)\n",
    "    data_publikacji = Column(Date)\n",
    "    data_zakonczenia = Column(Date)\n",
    "    miasto_powiat = Column(String)\n",
    "    zamawiajacy = Column(String)\n",
    "    przedmiot_zamowienia = Column(String)\n",
    "    link = Column(String)\n",
    "    wojewodztwo = Column(ARRAY(String))\n",
    "    krotki_opis = Column(String)\n",
    "    krotki_opis_preproc = Column(String)\n",
    "    glowny_kod_cpv = Column(String)\n",
    "    okres_realizacji = Column(String)\n",
    "    wymagane_wadium = Column(String)\n",
    "    kategoria_colab = Column(String)\n",
    "    uuid = Column(String)\n",
    "    categories = Column(ARRAY(String))\n",
    "\n",
    "# Replace these variables with your own information\n",
    "rds_host = rds_host\n",
    "rds_port = '5432'  # usually 5432\n",
    "rds_dbname = 'postgres'\n",
    "rds_username = 'postgres'\n",
    "rds_password = rds_password\n",
    "\n",
    "# Create a connection string\n",
    "DATABASE_URL = f\"postgresql+psycopg2://{rds_username}:{rds_password}@{rds_host}:{rds_port}/{rds_dbname}\"\n",
    "\n",
    "# Create the database engine\n",
    "engine = create_engine(DATABASE_URL)\n",
    "Base.metadata.create_all(engine)\n",
    "\n",
    "# Create a session\n",
    "Session = sessionmaker(bind=engine)\n",
    "session = Session()\n",
    "\n",
    "# Load the CSV file\n",
    "file_path = 'mnt/efs/data_pre_v3.csv'  # Update this with your file path\n",
    "df = pd.read_csv(file_path)\n",
    "\n",
    "# Preprocess the data\n",
    "df['Data Publikacji'] = pd.to_datetime(df['Data Publikacji']).dt.date\n",
    "df['Data Zakończenia'] = pd.to_datetime(df['Data Zakończenia']).dt.date\n",
    "df['Województwo'] = df['Województwo'].apply(lambda x: x.split(';') if pd.notnull(x) else [])\n",
    "df['categories'] = df['categories'].apply(lambda x: x.split(';') if pd.notnull(x) else [])\n",
    "df['Wymagane Wadium'] = df['Wymagane Wadium'].replace({np.nan: None}).astype(object)\n",
    "\n",
    "# Clean string columns\n",
    "string_columns = [\n",
    "    'Miasto/Powiat', 'Zamawiający', 'Przedmiot zamówienia', 'Link',\n",
    "    'Krótki opis', 'Krótki opis preproc', 'Główny kod CPV',\n",
    "    'Okres realizacji', 'kategoria - colab', 'uuid'\n",
    "]\n",
    "for col in string_columns:\n",
    "    df[col] = df[col].apply(lambda x: x.strip() if isinstance(x, str) else x)\n",
    "\n",
    "# Ensure 'kategoria - colab' column is treated as a string\n",
    "df['kategoria - colab'] = df['kategoria - colab'].astype(str)\n",
    "\n",
    "# Insert data into the database\n",
    "for _, row in df.iterrows():\n",
    "    tender = Tender(\n",
    "        data_publikacji=row['Data Publikacji'],\n",
    "        data_zakonczenia=row['Data Zakończenia'],\n",
    "        miasto_powiat=row['Miasto/Powiat'],\n",
    "        zamawiajacy=row['Zamawiający'],\n",
    "        przedmiot_zamowienia=row['Przedmiot zamówienia'],\n",
    "        link=row['Link'],\n",
    "        wojewodztwo=row['Województwo'],\n",
    "        krotki_opis=row['Krótki opis'],\n",
    "        krotki_opis_preproc=row['Krótki opis preproc'],\n",
    "        glowny_kod_cpv=row['Główny kod CPV'],\n",
    "        okres_realizacji=row['Okres realizacji'],\n",
    "        wymagane_wadium=row['Wymagane Wadium'],\n",
    "        kategoria_colab=row['kategoria - colab'],\n",
    "        uuid=row['uuid'],\n",
    "        categories=row['categories']\n",
    "    )\n",
    "    session.add(tender)\n",
    "\n",
    "session.commit()\n",
    "\n",
    "# Close the session\n",
    "session.close()"
   ]
  },
  {
   "cell_type": "code",
   "execution_count": 78,
   "metadata": {},
   "outputs": [
    {
     "data": {
      "text/plain": [
       "{'matches': [{'id': 'fadb19f0-abb7-4923-9daf-e70919d5b209',\n",
       "              'metadata': {'id': 'fadb19f0-abb7-4923-9daf-e70919d5b209'},\n",
       "              'score': 270.68515,\n",
       "              'values': []},\n",
       "             {'id': '3010ea92-1926-4033-aa60-25ed40931766',\n",
       "              'metadata': {'id': '3010ea92-1926-4033-aa60-25ed40931766'},\n",
       "              'score': 260.2034,\n",
       "              'values': []},\n",
       "             {'id': 'f3ca6137-7705-495b-a1bc-b5a1807906d0',\n",
       "              'metadata': {'id': 'f3ca6137-7705-495b-a1bc-b5a1807906d0'},\n",
       "              'score': 257.731354,\n",
       "              'values': []},\n",
       "             {'id': '31e64c4e-6300-47aa-a182-1d017a233406',\n",
       "              'metadata': {'id': '31e64c4e-6300-47aa-a182-1d017a233406'},\n",
       "              'score': 249.297363,\n",
       "              'values': []},\n",
       "             {'id': '05b06f7a-ae41-4877-bede-7d9326b15cbb',\n",
       "              'metadata': {'id': '05b06f7a-ae41-4877-bede-7d9326b15cbb'},\n",
       "              'score': 248.326889,\n",
       "              'values': []},\n",
       "             {'id': 'b219b9e4-6f86-4d0e-9b0a-cc5ab9a7dcf0',\n",
       "              'metadata': {'id': 'b219b9e4-6f86-4d0e-9b0a-cc5ab9a7dcf0'},\n",
       "              'score': 246.58873,\n",
       "              'values': []},\n",
       "             {'id': '308a5f06-0ab7-4a3d-8e2e-7d2da39e1a05',\n",
       "              'metadata': {'id': '308a5f06-0ab7-4a3d-8e2e-7d2da39e1a05'},\n",
       "              'score': 245.765976,\n",
       "              'values': []},\n",
       "             {'id': '13f116b6-f328-47ee-ac61-14527d36a9ce',\n",
       "              'metadata': {'id': '13f116b6-f328-47ee-ac61-14527d36a9ce'},\n",
       "              'score': 244.785568,\n",
       "              'values': []},\n",
       "             {'id': 'dc5b8706-7611-4f01-9e55-f651762de5ac',\n",
       "              'metadata': {'id': 'dc5b8706-7611-4f01-9e55-f651762de5ac'},\n",
       "              'score': 244.302048,\n",
       "              'values': []},\n",
       "             {'id': '5f395eed-4a6f-4b13-a8b1-a7248aac03ca',\n",
       "              'metadata': {'id': '5f395eed-4a6f-4b13-a8b1-a7248aac03ca'},\n",
       "              'score': 242.903961,\n",
       "              'values': []},\n",
       "             {'id': '0a617d03-3e4f-4621-bd8e-36c23fc82fc1',\n",
       "              'metadata': {'id': '0a617d03-3e4f-4621-bd8e-36c23fc82fc1'},\n",
       "              'score': 242.529526,\n",
       "              'values': []},\n",
       "             {'id': '697911c5-7d62-41a3-b82e-dfd6fda96b79',\n",
       "              'metadata': {'id': '697911c5-7d62-41a3-b82e-dfd6fda96b79'},\n",
       "              'score': 241.934845,\n",
       "              'values': []},\n",
       "             {'id': '41755027-42af-423e-b9a3-715f90644bf9',\n",
       "              'metadata': {'id': '41755027-42af-423e-b9a3-715f90644bf9'},\n",
       "              'score': 241.791504,\n",
       "              'values': []},\n",
       "             {'id': 'be07ad1c-09a5-4e3b-ae82-593a345e661d',\n",
       "              'metadata': {'id': 'be07ad1c-09a5-4e3b-ae82-593a345e661d'},\n",
       "              'score': 241.767517,\n",
       "              'values': []},\n",
       "             {'id': 'e7debead-29bc-4bd0-a75e-4509b690e5f6',\n",
       "              'metadata': {'id': 'e7debead-29bc-4bd0-a75e-4509b690e5f6'},\n",
       "              'score': 241.693787,\n",
       "              'values': []},\n",
       "             {'id': '6ba21a34-8ae7-45fd-ab91-27616c5144b5',\n",
       "              'metadata': {'id': '6ba21a34-8ae7-45fd-ab91-27616c5144b5'},\n",
       "              'score': 241.628937,\n",
       "              'values': []},\n",
       "             {'id': 'ae277a0d-e96d-421f-83ec-d25d0672b135',\n",
       "              'metadata': {'id': 'ae277a0d-e96d-421f-83ec-d25d0672b135'},\n",
       "              'score': 241.458618,\n",
       "              'values': []},\n",
       "             {'id': '8358bd16-7898-4d9b-8048-4d0157293a25',\n",
       "              'metadata': {'id': '8358bd16-7898-4d9b-8048-4d0157293a25'},\n",
       "              'score': 240.268097,\n",
       "              'values': []},\n",
       "             {'id': 'f428d62a-7fc7-466d-8d09-168594fd9c45',\n",
       "              'metadata': {'id': 'f428d62a-7fc7-466d-8d09-168594fd9c45'},\n",
       "              'score': 239.558807,\n",
       "              'values': []},\n",
       "             {'id': '578d7b97-ab3a-4839-b320-58568069fde6',\n",
       "              'metadata': {'id': '578d7b97-ab3a-4839-b320-58568069fde6'},\n",
       "              'score': 238.393845,\n",
       "              'values': []}],\n",
       " 'namespace': '',\n",
       " 'usage': {'read_units': 12}}"
      ]
     },
     "execution_count": 78,
     "metadata": {},
     "output_type": "execute_result"
    }
   ],
   "source": [
    "# Create the database engine\n",
    "engine = create_engine(DATABASE_URL)\n",
    "\n",
    "def format_query(locations, categories):\n",
    "    # Convert lists to PostgreSQL array strings\n",
    "    locations_str = ', '.join(f\"'{loc}'\" for loc in locations)\n",
    "    categories_str = ', '.join(f\"'{cat}'\" for cat in categories)\n",
    "    \n",
    "    # Construct the query string\n",
    "    query = f'''SELECT *\n",
    "FROM tenders\n",
    "WHERE wojewodztwo::text[] && ARRAY[{locations_str}]::text[]\n",
    "AND categories::text[] && ARRAY[{categories_str}]::text[]'''\n",
    "    \n",
    "    return query\n",
    "\n",
    "# Example usage\n",
    "locations = ['mazowieckie']\n",
    "categories = ['budownictwo - drogi chodniki place', 'budownictwo - wodno-kanalizacyjne', 'budownictwo - sanitarno-hydrauliczne']\n",
    "query = format_query(locations, categories)\n",
    "\n",
    "\n",
    "# Execute the query and load the data into a pandas DataFrame\n",
    "df = pd.read_sql_query(query, engine)\n",
    "\n",
    "# Display the DataFrame\n",
    "ids = df['uuid'].tolist()\n",
    "\n",
    "query = \"MarkX Piotr Rajshttps://www.markx-rajs.pl/ budownictow drogowe; Drogi, nasypy stabilizacje kanalizacje, ale tez duzo innych- patrz strona. Lokalizacja: cala polska\"\n",
    "dense_query = 'zapytanie: ' + query\n",
    "filter_ids = ids\n",
    "# create sparse and dense vectors\n",
    "sparse_query = preproc(query)\n",
    "sparse_query = bm25.encode_queries(sparse_query)\n",
    "dense_query = model.encode(dense_query, convert_to_tensor=False, show_progress_bar=False).tolist()\n",
    "# search\n",
    "result = index.query(\n",
    "    top_k=20,\n",
    "    filter={\n",
    "        \"id\": {\"$in\":filter_ids},\n",
    "    },\n",
    "    vector=dense_query,\n",
    "    sparse_vector=sparse_query,\n",
    "    include_metadata=True\n",
    ")\n",
    "\n",
    "result\n"
   ]
  }
 ],
 "metadata": {
  "kernelspec": {
   "display_name": ".venv",
   "language": "python",
   "name": "python3"
  },
  "language_info": {
   "codemirror_mode": {
    "name": "ipython",
    "version": 3
   },
   "file_extension": ".py",
   "mimetype": "text/x-python",
   "name": "python",
   "nbconvert_exporter": "python",
   "pygments_lexer": "ipython3",
   "version": "3.9.6"
  }
 },
 "nbformat": 4,
 "nbformat_minor": 2
}
